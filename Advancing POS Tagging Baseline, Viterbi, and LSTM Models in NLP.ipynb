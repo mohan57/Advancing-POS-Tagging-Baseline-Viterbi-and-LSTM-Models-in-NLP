{
 "cells": [
  {
   "cell_type": "markdown",
   "id": "697bcac3",
   "metadata": {},
   "source": [
    "This problem involves experimenting with different approaches to the Part-of-Speech (POS) tagging task using the Brown Corpus as the dataset. The goal is to improve the accuracy of POS tagging compared to a baseline method. Here are the four main parts of the problem:\n",
    "\n",
    "1. **Part A**: Establish a baseline accuracy for the POS tagging task using a simple method.\n",
    "\n",
    "2. **Part B**: Implement the Viterbi algorithm for Hidden Markov Models (HMM) to improve POS tagging accuracy compared to the baseline.\n",
    "\n",
    "3. **Part C**: Repeat the exercise from Part B, but this time, use a Long Short-Term Memory (LSTM) neural network for POS tagging. Explore different options for the implementation of the LSTM layer.\n",
    "\n",
    "4. **Part D**: Evaluate and compare the results obtained from the different methods (baseline, HMM, LSTM) in the context of the baseline method established in Part A.\n",
    "\n",
    "Additionally, the Brown Corpus contains sentences tagged with parts of speech, and for this problem, a simpler set of POS tags known as the \"universal_tagset\" is used for the analysis. The problem may also suggest trying the same task with transformer models like BERT as an optional extension."
   ]
  },
  {
   "cell_type": "code",
   "execution_count": 1,
   "id": "6be5d510",
   "metadata": {},
   "outputs": [
    {
     "name": "stderr",
     "output_type": "stream",
     "text": [
      "[nltk_data] Downloading package brown to\n",
      "[nltk_data]     /Users/mohanthota/nltk_data...\n",
      "[nltk_data]   Package brown is already up-to-date!\n",
      "[nltk_data] Downloading package universal_tagset to\n",
      "[nltk_data]     /Users/mohanthota/nltk_data...\n",
      "[nltk_data]   Package universal_tagset is already up-to-date!\n"
     ]
    },
    {
     "name": "stdout",
     "output_type": "stream",
     "text": [
      "There are 57340 sentences tagged with universal POS tags in the Brown Corpus.\n",
      "\n",
      "Here is the first sentence with universal tags: [('The', 'DET'), ('Fulton', 'NOUN'), ('County', 'NOUN'), ('Grand', 'ADJ'), ('Jury', 'NOUN'), ('said', 'VERB'), ('Friday', 'NOUN'), ('an', 'DET'), ('investigation', 'NOUN'), ('of', 'ADP'), (\"Atlanta's\", 'NOUN'), ('recent', 'ADJ'), ('primary', 'NOUN'), ('election', 'NOUN'), ('produced', 'VERB'), ('``', '.'), ('no', 'DET'), ('evidence', 'NOUN'), (\"''\", '.'), ('that', 'ADP'), ('any', 'DET'), ('irregularities', 'NOUN'), ('took', 'VERB'), ('place', 'NOUN'), ('.', '.')]\n"
     ]
    }
   ],
   "source": [
    "import numpy as np\n",
    "import nltk\n",
    "\n",
    "# The first time you will need to download the corpus:\n",
    "\n",
    "from nltk.corpus import brown\n",
    " \n",
    "nltk.download('brown')\n",
    "nltk.download('universal_tagset')\n",
    "\n",
    "tagged_sentences = brown.tagged_sents(tagset='universal')\n",
    "\n",
    "print(f'There are {len(tagged_sentences)} sentences tagged with universal POS tags in the Brown Corpus.')\n",
    "print(\"\\nHere is the first sentence with universal tags:\",tagged_sentences[0])"
   ]
  },
  {
   "cell_type": "code",
   "execution_count": 2,
   "id": "f11d8e85",
   "metadata": {},
   "outputs": [
    {
     "name": "stdout",
     "output_type": "stream",
     "text": [
      "There are 12 universal tags in the Brown Corpus.\n",
      "['.', 'ADJ', 'ADP', 'ADV', 'CONJ', 'DET', 'NOUN', 'NUM', 'PRON', 'PRT', 'VERB', 'X']\n",
      "\n"
     ]
    }
   ],
   "source": [
    "# Uncomment to see the complete list of tags. \n",
    "\n",
    "all_tagged_words = np.concatenate(tagged_sentences)\n",
    "all_tags = sorted(set([pos for (w,pos) in all_tagged_words]))\n",
    "print(f'There are {len(all_tags)} universal tags in the Brown Corpus.')\n",
    "print(all_tags)\n",
    "print()\n"
   ]
  },
  {
   "cell_type": "markdown",
   "id": "caa2ad69",
   "metadata": {},
   "source": [
    "### PART ONE"
   ]
  },
  {
   "cell_type": "markdown",
   "id": "ce7549e7",
   "metadata": {},
   "source": [
    "In this part, I established a baseline for the task using a naive method as suggested on one of my Lectures. I tagged every word with its most frequent POS tag. For instance, if 'recent' was most frequently tagged as 'ADJ', I assumed that every occurrence of 'recent' in a sentence should be tagged as 'ADJ'. If a word had multiple most frequent tags, I chose the one that appeared first in the sorted list of tags.\n",
    "\n",
    "I built a dictionary that mapped every word to its most frequent tag and then went through the entire tagged corpus. I reported the accuracy, which was the percentage of correct tags assigned by this baseline method. Importantly, I didn't tokenize or lower-case the words but used them and their tags exactly as they appeared in the tagged sentences."
   ]
  },
  {
   "cell_type": "code",
   "execution_count": 3,
   "id": "cbbb54f7",
   "metadata": {},
   "outputs": [],
   "source": [
    "word_to_most_frequent_tag = {}\n",
    "\n",
    "for sentence in tagged_sentences:\n",
    "    for word, tag in sentence:\n",
    "        if word in word_to_most_frequent_tag:\n",
    "            word_to_most_frequent_tag[word].append(tag)\n",
    "        else:\n",
    "            word_to_most_frequent_tag[word] = [tag]"
   ]
  },
  {
   "cell_type": "code",
   "execution_count": 4,
   "id": "3df8b979",
   "metadata": {},
   "outputs": [],
   "source": [
    "for word, tags in word_to_most_frequent_tag.items():\n",
    "    word_to_most_frequent_tag[word] = sorted(tags)[0]"
   ]
  },
  {
   "cell_type": "code",
   "execution_count": 5,
   "id": "2046ddc8",
   "metadata": {},
   "outputs": [],
   "source": [
    "def baseline_tag_sentence(sentence):\n",
    "    tagged_sentence = []\n",
    "    for word in sentence:\n",
    "        if word in word_to_most_frequent_tag:\n",
    "            tagged_sentence.append((word, word_to_most_frequent_tag[word]))\n",
    "        else:\n",
    "            tagged_sentence.append((word, 'NOUN'))\n",
    "    return tagged_sentence"
   ]
  },
  {
   "cell_type": "code",
   "execution_count": 6,
   "id": "c93fb0ff",
   "metadata": {},
   "outputs": [],
   "source": [
    "def calculate_accuracy(tagged_sentences, baseline_tagger):\n",
    "    correct_tags = 0\n",
    "    total_tags = 0\n",
    "    for sentence in tagged_sentences:\n",
    "        baseline_tags = baseline_tagger([word for word, _ in sentence])\n",
    "        for (word, actual_tag), (_, predicted_tag) in zip(sentence, baseline_tags):\n",
    "            total_tags += 1\n",
    "            if actual_tag == predicted_tag:\n",
    "                correct_tags += 1\n",
    "    return correct_tags / total_tags\n"
   ]
  },
  {
   "cell_type": "code",
   "execution_count": 7,
   "id": "1dde5026",
   "metadata": {},
   "outputs": [],
   "source": [
    "baseline_accuracy = calculate_accuracy(tagged_sentences, baseline_tag_sentence)\n"
   ]
  },
  {
   "cell_type": "code",
   "execution_count": 8,
   "id": "995d8669",
   "metadata": {},
   "outputs": [
    {
     "name": "stdout",
     "output_type": "stream",
     "text": [
      "Baseline Accuracy: 87.98%\n"
     ]
    }
   ],
   "source": [
    "\n",
    "print(f\"Baseline Accuracy: {baseline_accuracy:.2%}\")"
   ]
  },
  {
   "cell_type": "markdown",
   "id": "047adbdf",
   "metadata": {},
   "source": [
    "### PART TWO"
   ]
  },
  {
   "cell_type": "markdown",
   "id": "22519cd5",
   "metadata": {},
   "source": [
    "I conducted experiments using the Viterbi algorithm for POS tagging on the Brown Corpus tagged sentences. To do this, I prepared probability matrices (start_p, trans_p, emit_p) based on the corpus data. The accuracy of the Viterbi algorithm was calculated at the word level and reported as a raw accuracy score. Additionally, I compared this accuracy to the baseline method established in Part A and assessed agreement using Cohen's Kappa."
   ]
  },
  {
   "cell_type": "code",
   "execution_count": 9,
   "id": "909126f1",
   "metadata": {},
   "outputs": [],
   "source": [
    "import math\n",
    "import numpy as np\n",
    "from numpy.random import shuffle, seed, choice\n",
    "from tqdm import tqdm\n",
    "from collections import defaultdict\n"
   ]
  },
  {
   "cell_type": "code",
   "execution_count": 10,
   "id": "62a90804",
   "metadata": {},
   "outputs": [
    {
     "data": {
      "text/plain": [
       "defaultdict(<function __main__.<lambda>()>,\n",
       "            {'DET': -1.5444525954148751,\n",
       "             '.': -2.4199540183822053,\n",
       "             'PRON': -1.8344798463296288,\n",
       "             'NOUN': -1.957998969941659,\n",
       "             'ADV': -2.3930587143697037,\n",
       "             'ADP': -2.096822269821264,\n",
       "             'VERB': -3.09811308381657,\n",
       "             'NUM': -4.0856624448268155,\n",
       "             'CONJ': -3.013325971560988,\n",
       "             'ADJ': -3.3714726607982355,\n",
       "             'PRT': -3.305633563734661,\n",
       "             'X': -7.555556357775205})"
      ]
     },
     "execution_count": 10,
     "metadata": {},
     "output_type": "execute_result"
    }
   ],
   "source": [
    "\n",
    "start_p = defaultdict(int)\n",
    "\n",
    "for sentence in brown.tagged_sents(tagset='universal'):\n",
    "    start_tag = sentence[0][1] \n",
    "    start_p[start_tag] += 1\n",
    "\n",
    "total_sentences = len(brown.tagged_sents(tagset='universal'))\n",
    "\n",
    "for tag in start_p:\n",
    "    start_p[tag] /= total_sentences\n",
    "start_p_log = defaultdict(lambda: float('-inf'))\n",
    "for tag in start_p:\n",
    "    start_p_log[tag] = np.log(start_p[tag])\n",
    "start_p_log"
   ]
  },
  {
   "cell_type": "code",
   "execution_count": 11,
   "id": "2d46650d",
   "metadata": {},
   "outputs": [],
   "source": [
    "trans_p = defaultdict(lambda: defaultdict(int))\n",
    "\n",
    "for sentence in brown.tagged_sents(tagset='universal'):\n",
    "    for i in range(len(sentence) - 1):\n",
    "        current_tag = sentence[i][1]\n",
    "        next_tag = sentence[i + 1][1]\n",
    "        trans_p[current_tag][next_tag] += 1\n",
    "for t1 in trans_p:\n",
    "    total_transitions = sum(trans_p[t1].values())\n",
    "    for t2 in trans_p[t1]:\n",
    "        trans_p[t1][t2] /= total_transitions\n",
    "\n",
    "trans_p_log = defaultdict(lambda: defaultdict(lambda: float('-inf')))\n",
    "for t1 in trans_p:\n",
    "    for t2 in trans_p[t1]:\n",
    "        trans_p_log[t1][t2] = np.log(trans_p[t1][t2])\n",
    "\n",
    "#trans_p_log"
   ]
  },
  {
   "cell_type": "code",
   "execution_count": 12,
   "id": "e1b6b62e",
   "metadata": {},
   "outputs": [],
   "source": [
    "emit_p = defaultdict(lambda: defaultdict(int))\n",
    "\n",
    "for sentence in brown.tagged_sents(tagset='universal'):\n",
    "    for word, tag in sentence:\n",
    "        emit_p[tag][word] += 1\n",
    "for t in emit_p:\n",
    "    total_emissions = sum(emit_p[t].values())\n",
    "    for w in emit_p[t]:\n",
    "        emit_p[t][w] /= total_emissions\n",
    "\n",
    "emit_p_log = defaultdict(lambda: defaultdict(lambda: float('-inf')))\n",
    "for t in emit_p:\n",
    "    for w in emit_p[t]:\n",
    "        emit_p_log[t][w] = np.log(emit_p[t][w])\n",
    "#emit_p_log"
   ]
  },
  {
   "cell_type": "code",
   "execution_count": 13,
   "id": "ec20d171",
   "metadata": {},
   "outputs": [],
   "source": [
    "import numpy as np\n",
    "\n",
    "# Adapted from the Wikipedia article just referenced\n",
    "# Obs_sequence is sequence of words \"observed\"; returns\n",
    "# most likely sequence of states = POS. \n",
    "\n",
    "# start_p, trans_p, emit_p are dictionaries giving probabilities\n",
    "# set logspace to False if these are normal probabilities (not in log space)\n",
    "\n",
    "def viterbi(obs_sequence, obs, states, start_p, trans_p, emit_p,logspace=True):\n",
    "    \n",
    "    V = [{}]\n",
    "    for st in states:\n",
    "        if logspace:\n",
    "            V[0] [st] = {\"prob\": start_p[st] + emit_p[st][obs_sequence[0]], \"prev\": None}\n",
    "        else:\n",
    "            V[0] [st] = {\"prob\": start_p[st] * emit_p[st][obs_sequence[0]], \"prev\": None}\n",
    "        \n",
    "    # Run Viterbi when t > 0\n",
    "    \n",
    "    for t in range(1, len(obs_sequence)):\n",
    "        V.append({})\n",
    "        for st in states:\n",
    "            \n",
    "            if logspace:\n",
    "                max_tr_prob = V[t - 1] [states[0]] [\"prob\"] + trans_p[states[0]] [st]\n",
    "            else:\n",
    "                max_tr_prob = V[t - 1] [states[0]] [\"prob\"] * trans_p[states[0]] [st]\n",
    "                \n",
    "            prev_st_selected = states[0]\n",
    "            \n",
    "            for prev_st in states[1:]:\n",
    "                \n",
    "                if logspace:\n",
    "                    tr_prob = V[t - 1] [prev_st] [\"prob\"] + trans_p[prev_st] [st]\n",
    "                else:\n",
    "                    tr_prob = V[t - 1] [prev_st] [\"prob\"] * trans_p[prev_st] [st]\n",
    "                    \n",
    "                if tr_prob > max_tr_prob:\n",
    "                    max_tr_prob = tr_prob\n",
    "                    prev_st_selected = prev_st\n",
    "\n",
    "            if logspace:\n",
    "                max_prob = max_tr_prob + emit_p[st] [obs_sequence[t]]\n",
    "            else:\n",
    "                max_prob = max_tr_prob * emit_p[st] [obs_sequence[t]]\n",
    "                \n",
    "            V[t] [st] = {\"prob\": max_prob, \"prev\": prev_st_selected}\n",
    "\n",
    "    opt = []\n",
    "    max_prob = float('-inf')\n",
    "    best_st = None\n",
    "\n",
    "    # Get most probable state and its backtrack\n",
    "    for st, data in V[-1].items():\n",
    "        if data[\"prob\"] > max_prob:\n",
    "            max_prob = data[\"prob\"]\n",
    "            best_st = st\n",
    "    opt.append(best_st)\n",
    "    previous = best_st\n",
    "\n",
    "    # Follow the backtrack till the first observation\n",
    "    for t in range(len(V) - 2, -1, -1):\n",
    "        opt.insert(0, V[t + 1] [previous] [\"prev\"])\n",
    "        previous = V[t + 1] [previous] [\"prev\"]\n",
    "\n",
    "    return (opt,max_prob)"
   ]
  },
  {
   "cell_type": "code",
   "execution_count": 14,
   "id": "76c9cee0",
   "metadata": {},
   "outputs": [],
   "source": [
    "def tag_sentence(sentence, states, start_p, trans_p, emit_p):\n",
    "    obs_sequence = [word for word, tag in sentence]\n",
    "    predicted_tags, _ = viterbi(obs_sequence, obs_sequence, states, start_p, trans_p, emit_p, logspace=True)\n",
    "    \n",
    "    return predicted_tags\n"
   ]
  },
  {
   "cell_type": "code",
   "execution_count": 15,
   "id": "be9e3a10",
   "metadata": {},
   "outputs": [
    {
     "name": "stdout",
     "output_type": "stream",
     "text": [
      "Accuracy: 97.54%\n"
     ]
    }
   ],
   "source": [
    "correct_tags = 0\n",
    "total_tags = 0\n",
    "states = list(set(tag for sentence in brown.tagged_sents(tagset='universal') for _, tag in sentence))\n",
    "\n",
    "for sentence in brown.tagged_sents(tagset='universal'):\n",
    "    predicted_tags = tag_sentence(sentence, states, start_p_log, trans_p_log, emit_p_log)\n",
    "    \n",
    "    actual_tags = [tag for word, tag in sentence]\n",
    "    \n",
    "    correct_tags += sum(p_tag == a_tag for p_tag, a_tag in zip(predicted_tags, actual_tags))\n",
    "    total_tags += len(sentence)\n",
    "accuracy = correct_tags / total_tags\n",
    "print(f\"Accuracy: {accuracy:.2%}\")\n"
   ]
  },
  {
   "cell_type": "code",
   "execution_count": 16,
   "id": "79ef84b8",
   "metadata": {},
   "outputs": [
    {
     "name": "stdout",
     "output_type": "stream",
     "text": [
      "Percentage Improvement Over Baseline: 10.87%\n"
     ]
    }
   ],
   "source": [
    "b=baseline_accuracy\n",
    "a=accuracy\n",
    "percentage_improvement = ((a - b) / b) * 100\n",
    "print(f\"Percentage Improvement Over Baseline: {percentage_improvement:.2f}%\")\n"
   ]
  },
  {
   "cell_type": "code",
   "execution_count": 17,
   "id": "56097613",
   "metadata": {},
   "outputs": [
    {
     "name": "stdout",
     "output_type": "stream",
     "text": [
      "Cohen's Kappa: 0.7953\n"
     ]
    }
   ],
   "source": [
    "kappa = (a - b) / (1 - b)\n",
    "print(f\"Cohen's Kappa: {kappa:.4f}\")\n"
   ]
  },
  {
   "cell_type": "code",
   "execution_count": 18,
   "id": "942f864a",
   "metadata": {},
   "outputs": [
    {
     "name": "stdout",
     "output_type": "stream",
     "text": [
      "``                  \t.         \t.         \n",
      "Only                \tADV       \tADV       \n",
      "a                   \tDET       \tDET       \n",
      "relative            \tADJ       \tADJ       \n",
      "handful             \tNOUN      \tNOUN      \n",
      "of                  \tADP       \tADP       \n",
      "such                \tADJ       \tADJ       \n",
      "reports             \tNOUN      \tNOUN      \n",
      "was                 \tVERB      \tVERB      \n",
      "received            \tVERB      \tVERB      \n",
      "''                  \t.         \t.         \n",
      ",                   \t.         \t.         \n",
      "the                 \tDET       \tDET       \n",
      "jury                \tNOUN      \tNOUN      \n",
      "said                \tVERB      \tVERB      \n",
      ",                   \t.         \t.         \n",
      "``                  \t.         \t.         \n",
      "considering         \tADP       \tADP       \n",
      "the                 \tDET       \tDET       \n",
      "widespread          \tADJ       \tADJ       \n",
      "interest            \tNOUN      \tNOUN      \n",
      "in                  \tADP       \tADP       \n",
      "the                 \tDET       \tDET       \n",
      "election            \tNOUN      \tNOUN      \n",
      ",                   \t.         \t.         \n",
      "the                 \tDET       \tDET       \n",
      "number              \tNOUN      \tNOUN      \n",
      "of                  \tADP       \tADP       \n",
      "voters              \tNOUN      \tNOUN      \n",
      "and                 \tCONJ      \tCONJ      \n",
      "the                 \tDET       \tDET       \n",
      "size                \tNOUN      \tNOUN      \n",
      "of                  \tADP       \tADP       \n",
      "this                \tDET       \tDET       \n",
      "city                \tNOUN      \tNOUN      \n",
      "''                  \t.         \t.         \n",
      ".                   \t.         \t.         \n"
     ]
    }
   ],
   "source": [
    "# Try it with normal probabilities\n",
    "\n",
    "sent = tagged_sentences[3]\n",
    "(s,t) = list(zip(*sent))\n",
    "(t_hat,p) = viterbi(s, np.array(all_tagged_words), np.array(all_tags),start_p,trans_p,emit_p,logspace=False)\n",
    "\n",
    "for k in range(len(s)):\n",
    "    print(f'{s[k]:20}\\t{t[k]:10}\\t{t_hat[k]:10}')"
   ]
  },
  {
   "cell_type": "code",
   "execution_count": 19,
   "id": "61ac99e4",
   "metadata": {},
   "outputs": [
    {
     "name": "stdout",
     "output_type": "stream",
     "text": [
      "``                  \t.         \t.         \n",
      "Only                \tADV       \tADV       \n",
      "a                   \tDET       \tDET       \n",
      "relative            \tADJ       \tADJ       \n",
      "handful             \tNOUN      \tNOUN      \n",
      "of                  \tADP       \tADP       \n",
      "such                \tADJ       \tADJ       \n",
      "reports             \tNOUN      \tNOUN      \n",
      "was                 \tVERB      \tVERB      \n",
      "received            \tVERB      \tVERB      \n",
      "''                  \t.         \t.         \n",
      ",                   \t.         \t.         \n",
      "the                 \tDET       \tDET       \n",
      "jury                \tNOUN      \tNOUN      \n",
      "said                \tVERB      \tVERB      \n",
      ",                   \t.         \t.         \n",
      "``                  \t.         \t.         \n",
      "considering         \tADP       \tADP       \n",
      "the                 \tDET       \tDET       \n",
      "widespread          \tADJ       \tADJ       \n",
      "interest            \tNOUN      \tNOUN      \n",
      "in                  \tADP       \tADP       \n",
      "the                 \tDET       \tDET       \n",
      "election            \tNOUN      \tNOUN      \n",
      ",                   \t.         \t.         \n",
      "the                 \tDET       \tDET       \n",
      "number              \tNOUN      \tNOUN      \n",
      "of                  \tADP       \tADP       \n",
      "voters              \tNOUN      \tNOUN      \n",
      "and                 \tCONJ      \tCONJ      \n",
      "the                 \tDET       \tDET       \n",
      "size                \tNOUN      \tNOUN      \n",
      "of                  \tADP       \tADP       \n",
      "this                \tDET       \tDET       \n",
      "city                \tNOUN      \tNOUN      \n",
      "''                  \t.         \t.         \n",
      ".                   \t.         \t.         \n"
     ]
    }
   ],
   "source": [
    "sent = tagged_sentences[3]\n",
    "(s,t) = list(zip(*sent))\n",
    "(t_hat,p) = viterbi(s, np.array(all_tagged_words), np.array(all_tags),start_p_log,trans_p_log,emit_p_log)\n",
    "\n",
    "for k in range(len(s)):\n",
    "    print(f'{s[k]:20}\\t{t[k]:10}\\t{t_hat[k]:10}')"
   ]
  },
  {
   "cell_type": "markdown",
   "id": "76d99b6a",
   "metadata": {},
   "source": [
    "### My Accuracies\n",
    "- Accuracy: 97.54%\n",
    "- Percentage Improvement Over Baseline: 10.87%\n",
    "- Cohen's Kappa: 0.7953"
   ]
  },
  {
   "cell_type": "markdown",
   "id": "ffbe4342",
   "metadata": {},
   "source": [
    "### PART THREE"
   ]
  },
  {
   "cell_type": "markdown",
   "id": "7e50e293",
   "metadata": {},
   "source": [
    " I created an LSTM model for POS tagging using PyTorch. Key steps and findings:\n",
    "\n",
    "- Preprocessing: Used GloVe embeddings, limited sentence length to 100 tokens.\n",
    "- Model Development: Explored various LSTM parameters like hidden_size, bidirectional, num_layers, and dropout.\n",
    "- Early Stopping: Implemented early stopping to prevent overfitting.\n",
    "- Discoveries: Different hyperparameter combinations affected model performance.\n",
    "- Testing Accuracy: Reported raw accuracy, percentage improvement over baseline, and Cohen's Kappa.\n",
    "\n",
    "These experiments helped identify the best LSTM configuration for accurate POS tagging."
   ]
  },
  {
   "cell_type": "code",
   "execution_count": 21,
   "id": "ce5ce308",
   "metadata": {},
   "outputs": [],
   "source": [
    "import numpy as np\n",
    "import nltk\n",
    "import torch\n",
    "import torch.nn as nn\n",
    "import torch.optim as optim\n",
    "from torch.utils.data import DataLoader, Dataset\n",
    "from sklearn.model_selection import train_test_split\n",
    "from tqdm import tqdm\n",
    "from nltk.corpus import brown\n",
    "from nltk.tokenize import word_tokenize\n",
    "from nltk.tag import untag\n",
    "from nltk.util import ngrams\n",
    "from collections import Counter\n",
    "from sklearn.metrics import accuracy_score\n",
    "from sklearn.metrics import f1_score\n",
    "import matplotlib.pyplot as plt\n",
    "\n",
    "\n"
   ]
  },
  {
   "cell_type": "code",
   "execution_count": 23,
   "id": "18289db1",
   "metadata": {},
   "outputs": [],
   "source": [
    "import numpy as np\n",
    "from nltk.corpus import brown\n",
    "import nltk\n",
    "from keras.preprocessing.sequence import pad_sequences\n",
    "from keras.utils import to_categorical\n",
    "\n",
    "def load_glove_embeddings(glove_file):\n",
    "    embeddings_index = {}\n",
    "    with open(glove_file, 'r', encoding='utf-8') as file:\n",
    "        for line in file:\n",
    "            values = line.split()\n",
    "            word = values[0]\n",
    "            vector = np.asarray(values[1:], dtype='float32')\n",
    "            embeddings_index[word] = vector\n",
    "    return embeddings_index\n",
    "\n",
    "glove_embeddings = load_glove_embeddings('glove.6B.200d.txt')\n",
    "\n"
   ]
  },
  {
   "cell_type": "code",
   "execution_count": 24,
   "id": "883ed723",
   "metadata": {},
   "outputs": [],
   "source": [
    "tagged_sentences = list(brown.tagged_sents(tagset='universal'))  # Convert to list\n",
    "\n",
    "# Code to test\n",
    "np.random.seed(123)\n",
    "np.random.shuffle(tagged_sentences)\n",
    "reduced_data_size = int(len(tagged_sentences) )\n",
    "tagged_sentences = tagged_sentences[:reduced_data_size]"
   ]
  },
  {
   "cell_type": "code",
   "execution_count": 25,
   "id": "4fc8bda5",
   "metadata": {},
   "outputs": [],
   "source": [
    "max_len = 100\n",
    "word2idx = {'PAD': 0}\n",
    "tag2idx = {'PAD': 0}\n",
    "\n",
    "for sentence in tagged_sentences:\n",
    "    for word, tag in sentence:\n",
    "        if word not in word2idx:\n",
    "            word2idx[word] = len(word2idx)\n",
    "        if tag not in tag2idx:\n",
    "            tag2idx[tag] = len(tag2idx)\n",
    "\n",
    "X = [[word2idx[word] for word, _ in sentence] for sentence in tagged_sentences];X = pad_sequences(maxlen=max_len, sequences=X, padding='post', value=0)\n",
    "\n",
    "y = [[tag2idx[tag] for _, tag in sentence] for sentence in tagged_sentences]\n",
    "y = pad_sequences(maxlen=max_len, sequences=y, padding='post', value=0)\n",
    "y = [to_categorical(i, num_classes=len(tag2idx)) for i in y]\n",
    "\n",
    "X_train, X_test, y_train, y_test = train_test_split(X, y, test_size=0.2)"
   ]
  },
  {
   "cell_type": "code",
   "execution_count": 26,
   "id": "87c23470",
   "metadata": {},
   "outputs": [
    {
     "name": "stdout",
     "output_type": "stream",
     "text": [
      "Model: \"model\"\n",
      "_________________________________________________________________\n",
      " Layer (type)                Output Shape              Param #   \n",
      "=================================================================\n",
      " input_1 (InputLayer)        [(None, 100)]             0         \n",
      "                                                                 \n",
      " embedding (Embedding)       (None, 100, 200)          11211600  \n",
      "                                                                 \n",
      " lstm (LSTM)                 (None, 100, 50)           50200     \n",
      "                                                                 \n",
      " bidirectional (Bidirection  (None, 100, 100)          40400     \n",
      " al)                                                             \n",
      "                                                                 \n",
      " time_distributed (TimeDist  (None, 100, 13)           1313      \n",
      " ributed)                                                        \n",
      "                                                                 \n",
      "=================================================================\n",
      "Total params: 11303513 (43.12 MB)\n",
      "Trainable params: 11303513 (43.12 MB)\n",
      "Non-trainable params: 0 (0.00 Byte)\n",
      "_________________________________________________________________\n"
     ]
    }
   ],
   "source": [
    "from keras.models import Model\n",
    "from keras.layers import Input, LSTM, Embedding, Dense, TimeDistributed, Dropout, Bidirectional\n",
    "import numpy as np\n",
    "\n",
    "# Hyperparameters\n",
    "hidden_size = 50  \n",
    "bidirectional = True  \n",
    "num_layers = 2  \n",
    "dropout_rate = 0.5  \n",
    "\n",
    "embedding_dim = 200\n",
    "\n",
    "embedding_matrix = np.zeros((len(word2idx), embedding_dim))\n",
    "for word, i in word2idx.items():\n",
    "    embedding_vector = glove_embeddings.get(word)\n",
    "    if embedding_vector is not None:\n",
    "        embedding_matrix[i] = embedding_vector\n",
    "\n",
    "input = Input(shape=(max_len,))\n",
    "model = Embedding(input_dim=len(word2idx), output_dim=embedding_dim, weights=[embedding_matrix], input_length=max_len, trainable=True)(input)\n",
    "\n",
    "for _ in range(num_layers - 1):\n",
    "    model = LSTM(hidden_size, return_sequences=True, dropout=dropout_rate)(model)\n",
    "    if bidirectional:\n",
    "        model = Bidirectional(LSTM(hidden_size, return_sequences=True, dropout=dropout_rate))(model)\n",
    "\n",
    "model = TimeDistributed(Dense(len(tag2idx), activation=\"softmax\"))(model)\n",
    "\n",
    "model = Model(input, model)\n",
    "model.compile(optimizer=\"adam\", loss=\"categorical_crossentropy\", metrics=[\"accuracy\"])\n",
    "\n",
    "model.summary()\n"
   ]
  },
  {
   "cell_type": "code",
   "execution_count": 27,
   "id": "0d29f828",
   "metadata": {},
   "outputs": [
    {
     "name": "stdout",
     "output_type": "stream",
     "text": [
      "Epoch 1/15\n",
      "1291/1291 [==============================] - 117s 90ms/step - loss: 0.1671 - accuracy: 0.9504 - val_loss: 0.0315 - val_accuracy: 0.9903\n",
      "Epoch 2/15\n",
      "1291/1291 [==============================] - 112s 87ms/step - loss: 0.0359 - accuracy: 0.9889 - val_loss: 0.0212 - val_accuracy: 0.9934\n",
      "Epoch 3/15\n",
      "1291/1291 [==============================] - 112s 87ms/step - loss: 0.0244 - accuracy: 0.9924 - val_loss: 0.0175 - val_accuracy: 0.9945\n",
      "Epoch 4/15\n",
      "1291/1291 [==============================] - 111s 86ms/step - loss: 0.0190 - accuracy: 0.9940 - val_loss: 0.0160 - val_accuracy: 0.9950\n",
      "Epoch 5/15\n",
      "1291/1291 [==============================] - 110s 86ms/step - loss: 0.0159 - accuracy: 0.9950 - val_loss: 0.0153 - val_accuracy: 0.9953\n",
      "Epoch 6/15\n",
      "1291/1291 [==============================] - 112s 86ms/step - loss: 0.0139 - accuracy: 0.9956 - val_loss: 0.0149 - val_accuracy: 0.9955\n",
      "Epoch 7/15\n",
      "1291/1291 [==============================] - 122s 94ms/step - loss: 0.0124 - accuracy: 0.9960 - val_loss: 0.0145 - val_accuracy: 0.9956\n",
      "Epoch 8/15\n",
      "1291/1291 [==============================] - 130s 101ms/step - loss: 0.0113 - accuracy: 0.9964 - val_loss: 0.0141 - val_accuracy: 0.9957\n",
      "Epoch 9/15\n",
      "1291/1291 [==============================] - 129s 100ms/step - loss: 0.0104 - accuracy: 0.9967 - val_loss: 0.0141 - val_accuracy: 0.9958\n",
      "Epoch 10/15\n",
      "1291/1291 [==============================] - 129s 100ms/step - loss: 0.0097 - accuracy: 0.9969 - val_loss: 0.0140 - val_accuracy: 0.9959\n",
      "Epoch 11/15\n",
      "1291/1291 [==============================] - 129s 100ms/step - loss: 0.0092 - accuracy: 0.9970 - val_loss: 0.0142 - val_accuracy: 0.9960\n",
      "Epoch 12/15\n",
      "1291/1291 [==============================] - 2681s 2s/step - loss: 0.0087 - accuracy: 0.9972 - val_loss: 0.0140 - val_accuracy: 0.9961\n",
      "Epoch 13/15\n",
      "1291/1291 [==============================] - 121s 94ms/step - loss: 0.0082 - accuracy: 0.9973 - val_loss: 0.0140 - val_accuracy: 0.9961\n",
      "Epoch 14/15\n",
      "1291/1291 [==============================] - 122s 94ms/step - loss: 0.0079 - accuracy: 0.9974 - val_loss: 0.0145 - val_accuracy: 0.9961\n",
      "Epoch 15/15\n",
      "1291/1291 [==============================] - 121s 94ms/step - loss: 0.0076 - accuracy: 0.9975 - val_loss: 0.0145 - val_accuracy: 0.9961\n"
     ]
    }
   ],
   "source": [
    "from keras.callbacks import EarlyStopping\n",
    "#changed to 8 from 50\n",
    "early_stopping = EarlyStopping(monitor='val_loss', patience=8)\n",
    "\n",
    "\n",
    "history = model.fit(X_train, np.array(y_train), batch_size=32, epochs=15, validation_split=0.1, callbacks=[early_stopping])\n"
   ]
  },
  {
   "cell_type": "code",
   "execution_count": 28,
   "id": "ed606847",
   "metadata": {},
   "outputs": [
    {
     "name": "stdout",
     "output_type": "stream",
     "text": [
      "359/359 [==============================] - 6s 15ms/step\n",
      "Test Accuracy: 99.61%\n"
     ]
    }
   ],
   "source": [
    "from sklearn.metrics import accuracy_score\n",
    "from numpy import argmax\n",
    "\n",
    "test_predictions = model.predict(X_test, verbose=1)\n",
    "\n",
    "def logits_to_tags(predictions, idx2tag):\n",
    "    tag_sequences = []\n",
    "    for prediction in predictions:\n",
    "        tag_sequence = [idx2tag[argmax(tag)] for tag in prediction]\n",
    "        tag_sequences.append(tag_sequence)\n",
    "    return tag_sequences\n",
    "\n",
    "idx2tag = {i: w for w, i in tag2idx.items()}\n",
    "predicted_tags = logits_to_tags(test_predictions, idx2tag)\n",
    "true_tags = logits_to_tags(y_test, idx2tag)\n",
    "\n",
    "flat_predicted_tags = [tag for seq in predicted_tags for tag in seq]\n",
    "flat_true_tags = [tag for seq in true_tags for tag in seq]\n",
    "\n",
    "accuracy = accuracy_score(flat_true_tags, flat_predicted_tags)\n",
    "print(f\"Test Accuracy: {accuracy:.2%}\")\n"
   ]
  },
  {
   "cell_type": "code",
   "execution_count": 29,
   "id": "27910915",
   "metadata": {},
   "outputs": [
    {
     "name": "stdout",
     "output_type": "stream",
     "text": [
      "              precision    recall  f1-score   support\n",
      "\n",
      "           .       1.00      1.00      1.00     29691\n",
      "         ADJ       0.94      0.94      0.94     16753\n",
      "         ADP       0.98      0.99      0.99     29173\n",
      "         ADV       0.97      0.93      0.95     11186\n",
      "        CONJ       0.99      1.00      1.00      7581\n",
      "         DET       0.99      1.00      1.00     27503\n",
      "        NOUN       0.97      0.98      0.98     55226\n",
      "         NUM       0.98      0.97      0.98      3062\n",
      "         PAD       1.00      1.00      1.00    913993\n",
      "        PRON       1.00      0.99      0.99      9906\n",
      "         PRT       0.96      0.96      0.96      5849\n",
      "        VERB       0.98      0.98      0.98     36634\n",
      "           X       0.84      0.49      0.62       243\n",
      "\n",
      "    accuracy                           1.00   1146800\n",
      "   macro avg       0.97      0.94      0.95   1146800\n",
      "weighted avg       1.00      1.00      1.00   1146800\n",
      "\n"
     ]
    }
   ],
   "source": [
    "from sklearn.metrics import classification_report\n",
    "\n",
    "report = classification_report(flat_true_tags, flat_predicted_tags)\n",
    "print(report)\n"
   ]
  },
  {
   "cell_type": "code",
   "execution_count": 30,
   "id": "64eb3bfb",
   "metadata": {},
   "outputs": [
    {
     "data": {
      "image/png": "[encoded data removed]",
      "text/plain": [
       "<Figure size 1000x1000 with 2 Axes>"
      ]
     },
     "metadata": {},
     "output_type": "display_data"
    }
   ],
   "source": [
    "from sklearn.metrics import confusion_matrix\n",
    "import matplotlib.pyplot as plt\n",
    "import seaborn as sns\n",
    "\n",
    "conf_mat = confusion_matrix(flat_true_tags, flat_predicted_tags, labels=list(tag2idx.keys()))\n",
    "\n",
    "plt.figure(figsize=(10, 10))\n",
    "sns.heatmap(conf_mat, annot=True, fmt=\"d\", xticklabels=tag2idx.keys(), yticklabels=tag2idx.keys())\n",
    "plt.title(\"Confusion Matrix\")\n",
    "plt.ylabel('Actual')\n",
    "plt.xlabel('Predicted')\n",
    "plt.show()\n"
   ]
  },
  {
   "cell_type": "code",
   "execution_count": 31,
   "id": "4e85600e",
   "metadata": {},
   "outputs": [
    {
     "name": "stdout",
     "output_type": "stream",
     "text": [
      "Percentage Improvement Over Baseline: 13.22%\n"
     ]
    }
   ],
   "source": [
    "b=baseline_accuracy\n",
    "a=accuracy\n",
    "percentage_improvement = ((a - b) / b) * 100\n",
    "print(f\"Percentage Improvement Over Baseline: {percentage_improvement:.2f}%\")\n"
   ]
  },
  {
   "cell_type": "code",
   "execution_count": 32,
   "id": "9ae263ac",
   "metadata": {},
   "outputs": [
    {
     "name": "stdout",
     "output_type": "stream",
     "text": [
      "Cohen's Kappa: 0.9672\n"
     ]
    }
   ],
   "source": [
    "kappa = (a - b) / (1 - b)\n",
    "print(f\"Cohen's Kappa: {kappa:.4f}\")\n"
   ]
  },
  {
   "cell_type": "markdown",
   "id": "6cc0be76",
   "metadata": {},
   "source": [
    "Definelty it was not easy , but it was fun to do this . i have been playing arroud with paramaters . looking out for the trends i need.\n",
    "previosly i dont have control over paramaters so i had to rely on whatver accuracy was coming. obviously epochs might increase but still\n",
    "thats not the motive . \n",
    "\n",
    "- Accuracy: 99.60%\n",
    "- Percentage Improvement Over Baseline: 13.22%\n",
    "- Cohen's Kappa: 0.9671"
   ]
  },
  {
   "cell_type": "markdown",
   "id": "cbe75cb8",
   "metadata": {},
   "source": [
    "### Part FOUR"
   ]
  },
  {
   "cell_type": "markdown",
   "id": "b50da701",
   "metadata": {},
   "source": [
    "### ANALYSIS\n",
    "\n",
    "i was jumping after lokking at the accuracy . but then no model is perfect . i realised this when i saw the confusion matrix. the data is huge  and error are very small when compared . so consediring that over all accuracy is pretty high , is what i feel personally\n",
    "below are the main hyperparamters that made me run towards my progress:\n",
    "\n",
    "hidden layers : 128\n",
    "lr : 0.001\n",
    "SGD\n",
    "batch size: 128\n",
    "    \n",
    "hidden layers : 256\n",
    "lr : 0.001\n",
    "SGD\n",
    "batch size: 128\n",
    "    \n",
    "hidden layers : 256\n",
    "lr : 0.0001\n",
    "Adam\n",
    "batch size: 64\n",
    "    \n",
    "hidden layers : 512\n",
    "lr : 0.001\n",
    "Adam\n",
    "batch size: 32\n",
    "    \n",
    "hidden layers : 50\n",
    "lr : 0.001\n",
    "Adam\n",
    "batch size: 32\n",
    "    \n",
    "At each stage i was failing intially because of some preprocessing issue with the data . my major one was to handle the shape\n",
    "of the data and it labels. runing huge dataset would be quite tough so i randomly selected 10% of data . tested various aspects of it like\n",
    "manually going through to check the errors and possibilities. \n",
    "\n",
    "- some time the kernal used to crash becuase of the environment i was doing this assignment on my local machine . i had to adjust\n",
    "the paramaters in order to run it properly on local machine. the accuracy was 0 for sometime and then it went up to 80. suddenly \n",
    "fell back to 10. i was like what . then i realised that i have been over loading the variables and messing up my data. \n",
    "\n",
    "- i have consulted various websites in order to land up at what i call is a good accuracy. it was quite surprise for me \n",
    "because i was always in a though of having higher number for parameters. when i used basic paramters the model ran so good.\n",
    "\n",
    "\n",
    "- when there were no hyperparamters i felt like wow this is going to be the one ,obviously !! lazy to test with diffeent \n",
    "paramters. but then when i control of paramaters i felt like i have control over ever corner of the code. because when i have been \n",
    "chnage each paramater i have observed different trends . so having choice of  hyperparamters is always a good thing( strongly realised it after this assignment)\n"
   ]
  },
  {
   "cell_type": "code",
   "execution_count": null,
   "id": "dd86b43a",
   "metadata": {},
   "outputs": [],
   "source": []
  }
 ],
 "metadata": {
  "kernelspec": {
   "display_name": "Python 3 (ipykernel)",
   "language": "python",
   "name": "python3"
  },
  "language_info": {
   "codemirror_mode": {
    "name": "ipython",
    "version": 3
   },
   "file_extension": ".py",
   "mimetype": "text/x-python",
   "name": "python",
   "nbconvert_exporter": "python",
   "pygments_lexer": "ipython3",
   "version": "3.10.9"
  }
 },
 "nbformat": 4,
 "nbformat_minor": 5
}
